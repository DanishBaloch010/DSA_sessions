{
 "cells": [
  {
   "cell_type": "code",
   "execution_count": 32,
   "id": "05a97d03",
   "metadata": {},
   "outputs": [
    {
     "name": "stdout",
     "output_type": "stream",
     "text": [
      "Fibonacci of 1000 (recursive with memoization): 43466557686937456435688527675040625802564660517371780402481729089536555417949051890403879840079255169295922593080322634775209689623239873322471161642996440906533187938298969649928516003704476137795166849228875\n",
      "Time taken (with memo): 0.0030264854 seconds\n",
      "\n"
     ]
    }
   ],
   "source": [
    "import time\n",
    "\n",
    "class Solution:\n",
    "\n",
    "    # initializer constructor\n",
    "    def __init__(self):\n",
    "        self.memo = {}\n",
    "\n",
    "    # iterative fibonacci\n",
    "    def iter_fib(self, n):\n",
    "        if n == 0:\n",
    "            return 0\n",
    "        if n == 1:\n",
    "            return 1\n",
    "            \n",
    "        prev = 0\n",
    "        current = 1\n",
    "\n",
    "        for i in range(2, n + 1):\n",
    "            ans = prev + current\n",
    "            prev = current\n",
    "            current = ans\n",
    "\n",
    "        return current\n",
    "    \n",
    "    # iterative fibonacci using list\n",
    "    def itter_fib_arr(self, n):\n",
    "        if n == 0 or n == 1:\n",
    "            return n\n",
    "\n",
    "        ans = [0, 1]\n",
    "        i = 2\n",
    "        while i <= n:\n",
    "            prev = ans[i - 1]\n",
    "            prev_prev = ans[i - 2]\n",
    "\n",
    "            ans.append(prev + prev_prev)\n",
    "\n",
    "            i = i + 1\n",
    "\n",
    "        return ans[-1]\n",
    "\n",
    "    # recursive fibonacci without memoization\n",
    "    def rec_fib(self, n):\n",
    "        if n <= 1:\n",
    "            return n\n",
    "        \n",
    "        return self.rec_fib(n - 1) + self.rec_fib(n - 2)\n",
    "\n",
    "    # recursive fibonacci with memoization\n",
    "    def rec_fib_memo(self, n):\n",
    "        if n <= 1:\n",
    "            return n \n",
    "\n",
    "        # if previously calculated\n",
    "        if n in self.memo:\n",
    "            return self.memo[n]\n",
    "        \n",
    "        # if not previously calculated\n",
    "        self.memo[n] = self.rec_fib_memo(n - 1) + self.rec_fib_memo(n - 2)\n",
    "        return self.memo[n]\n",
    "\n",
    "# Create an instance of the Solution class\n",
    "solution = Solution()\n",
    "\n",
    "# Set the input value\n",
    "n = 1000  # You can adjust n as needed\n",
    "\n",
    "# 38 16, 39 26 ,\n",
    "# Time the recursive function without memoization\n",
    "# start_time_no_memo = time.time()\n",
    "# result_no_memo = solution.rec_fib(n)\n",
    "# end_time_no_memo = time.time()\n",
    "\n",
    "# Time the recursive function with memoization\n",
    "solution.memo.clear()  # Clear previous memoization\n",
    "start_time_memo = time.time()\n",
    "result_memo = solution.rec_fib_memo(n)\n",
    "end_time_memo = time.time()\n",
    "\n",
    "# # Calculate the percentage increase\n",
    "# time_difference =  (end_time_no_memo - start_time_no_memo) - (end_time_memo - start_time_memo)\n",
    "# percentage_increase = (time_difference / (end_time_no_memo - start_time_no_memo)) * 100\n",
    "\n",
    "# Print results\n",
    "# print(f\"Fibonacci of {n} (recursive without memoization): {result_no_memo}\")\n",
    "# print(f\"Time taken (without memo): {end_time_no_memo - start_time_no_memo:.10f} seconds\")\n",
    "# print()\n",
    "print(f\"Fibonacci of {n} (recursive with memoization): {result_memo}\")\n",
    "print(f\"Time taken (with memo): {end_time_memo - start_time_memo:.10f} seconds\")\n",
    "print()\n",
    "# print(f\"Percentage increase in time with memoization: {percentage_increase:.2f}%\")\n",
    "\n"
   ]
  },
  {
   "cell_type": "code",
   "execution_count": 36,
   "id": "b3047377",
   "metadata": {},
   "outputs": [
    {
     "name": "stdout",
     "output_type": "stream",
     "text": [
      "True\n"
     ]
    }
   ],
   "source": [
    "print( '43466557686937456435688527675040625802564660517371780402481729089536555417949051890403879840079255169295922593080322634775209689623239873322471161642996440906533187938298969649928516003704476137795166849228875' == '43466557686937456435688527675040625802564660517371780402481729089536555417949051890403879840079255169295922593080322634775209689623239873322471161642996440906533187938298969649928516003704476137795166849228875')"
   ]
  },
  {
   "cell_type": "code",
   "execution_count": null,
   "id": "32d2df0b",
   "metadata": {},
   "outputs": [],
   "source": []
  }
 ],
 "metadata": {
  "kernelspec": {
   "display_name": "Python 3 (ipykernel)",
   "language": "python",
   "name": "python3"
  },
  "language_info": {
   "codemirror_mode": {
    "name": "ipython",
    "version": 3
   },
   "file_extension": ".py",
   "mimetype": "text/x-python",
   "name": "python",
   "nbconvert_exporter": "python",
   "pygments_lexer": "ipython3",
   "version": "3.10.12"
  }
 },
 "nbformat": 4,
 "nbformat_minor": 5
}
